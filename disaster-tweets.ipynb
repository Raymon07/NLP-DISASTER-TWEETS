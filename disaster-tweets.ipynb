{
 "cells": [
  {
   "cell_type": "code",
   "execution_count": 1,
   "id": "8f1e78d7",
   "metadata": {
    "_cell_guid": "b1076dfc-b9ad-4769-8c92-a6c4dae69d19",
    "_uuid": "8f2839f25d086af736a60e9eeb907d3b93b6e0e5",
    "execution": {
     "iopub.execute_input": "2022-04-29T17:35:22.293441Z",
     "iopub.status.busy": "2022-04-29T17:35:22.292542Z",
     "iopub.status.idle": "2022-04-29T17:35:22.306176Z",
     "shell.execute_reply": "2022-04-29T17:35:22.305372Z"
    },
    "papermill": {
     "duration": 0.041144,
     "end_time": "2022-04-29T17:35:22.308938",
     "exception": false,
     "start_time": "2022-04-29T17:35:22.267794",
     "status": "completed"
    },
    "tags": []
   },
   "outputs": [
    {
     "name": "stdout",
     "output_type": "stream",
     "text": [
      "/kaggle/input/nlp-getting-started/sample_submission.csv\n",
      "/kaggle/input/nlp-getting-started/train.csv\n",
      "/kaggle/input/nlp-getting-started/test.csv\n"
     ]
    }
   ],
   "source": [
    "# This Python 3 environment comes with many helpful analytics libraries installed\n",
    "# It is defined by the kaggle/python Docker image: https://github.com/kaggle/docker-python\n",
    "# For example, here's several helpful packages to load\n",
    "\n",
    "import numpy as np # linear algebra\n",
    "import pandas as pd # data processing, CSV file I/O (e.g. pd.read_csv)\n",
    "\n",
    "# Input data files are available in the read-only \"../input/\" directory\n",
    "# For example, running this (by clicking run or pressing Shift+Enter) will list all files under the input directory\n",
    "\n",
    "import os\n",
    "for dirname, _, filenames in os.walk('/kaggle/input'):\n",
    "    for filename in filenames:\n",
    "        print(os.path.join(dirname, filename))\n",
    "\n",
    "# You can write up to 20GB to the current directory (/kaggle/working/) that gets preserved as output when you create a version using \"Save & Run All\" \n",
    "# You can also write temporary files to /kaggle/temp/, but they won't be saved outside of the current session"
   ]
  },
  {
   "cell_type": "code",
   "execution_count": 2,
   "id": "edbf9d96",
   "metadata": {
    "execution": {
     "iopub.execute_input": "2022-04-29T17:35:22.357746Z",
     "iopub.status.busy": "2022-04-29T17:35:22.356401Z",
     "iopub.status.idle": "2022-04-29T17:35:22.361938Z",
     "shell.execute_reply": "2022-04-29T17:35:22.360786Z"
    },
    "papermill": {
     "duration": 0.030848,
     "end_time": "2022-04-29T17:35:22.364254",
     "exception": false,
     "start_time": "2022-04-29T17:35:22.333406",
     "status": "completed"
    },
    "tags": []
   },
   "outputs": [],
   "source": [
    "import pandas as pd"
   ]
  },
  {
   "cell_type": "markdown",
   "id": "cac024df",
   "metadata": {
    "papermill": {
     "duration": 0.022162,
     "end_time": "2022-04-29T17:35:22.408527",
     "exception": false,
     "start_time": "2022-04-29T17:35:22.386365",
     "status": "completed"
    },
    "tags": []
   },
   "source": []
  },
  {
   "cell_type": "code",
   "execution_count": 3,
   "id": "fdd0ae8d",
   "metadata": {
    "execution": {
     "iopub.execute_input": "2022-04-29T17:35:22.453651Z",
     "iopub.status.busy": "2022-04-29T17:35:22.453394Z",
     "iopub.status.idle": "2022-04-29T17:35:22.515337Z",
     "shell.execute_reply": "2022-04-29T17:35:22.514643Z"
    },
    "papermill": {
     "duration": 0.086714,
     "end_time": "2022-04-29T17:35:22.516988",
     "exception": false,
     "start_time": "2022-04-29T17:35:22.430274",
     "status": "completed"
    },
    "tags": []
   },
   "outputs": [
    {
     "data": {
      "text/html": [
       "<div>\n",
       "<style scoped>\n",
       "    .dataframe tbody tr th:only-of-type {\n",
       "        vertical-align: middle;\n",
       "    }\n",
       "\n",
       "    .dataframe tbody tr th {\n",
       "        vertical-align: top;\n",
       "    }\n",
       "\n",
       "    .dataframe thead th {\n",
       "        text-align: right;\n",
       "    }\n",
       "</style>\n",
       "<table border=\"1\" class=\"dataframe\">\n",
       "  <thead>\n",
       "    <tr style=\"text-align: right;\">\n",
       "      <th></th>\n",
       "      <th>id</th>\n",
       "      <th>keyword</th>\n",
       "      <th>location</th>\n",
       "      <th>text</th>\n",
       "      <th>target</th>\n",
       "    </tr>\n",
       "  </thead>\n",
       "  <tbody>\n",
       "    <tr>\n",
       "      <th>0</th>\n",
       "      <td>1</td>\n",
       "      <td>NaN</td>\n",
       "      <td>NaN</td>\n",
       "      <td>Our Deeds are the Reason of this #earthquake M...</td>\n",
       "      <td>1</td>\n",
       "    </tr>\n",
       "    <tr>\n",
       "      <th>1</th>\n",
       "      <td>4</td>\n",
       "      <td>NaN</td>\n",
       "      <td>NaN</td>\n",
       "      <td>Forest fire near La Ronge Sask. Canada</td>\n",
       "      <td>1</td>\n",
       "    </tr>\n",
       "    <tr>\n",
       "      <th>2</th>\n",
       "      <td>5</td>\n",
       "      <td>NaN</td>\n",
       "      <td>NaN</td>\n",
       "      <td>All residents asked to 'shelter in place' are ...</td>\n",
       "      <td>1</td>\n",
       "    </tr>\n",
       "    <tr>\n",
       "      <th>3</th>\n",
       "      <td>6</td>\n",
       "      <td>NaN</td>\n",
       "      <td>NaN</td>\n",
       "      <td>13,000 people receive #wildfires evacuation or...</td>\n",
       "      <td>1</td>\n",
       "    </tr>\n",
       "    <tr>\n",
       "      <th>4</th>\n",
       "      <td>7</td>\n",
       "      <td>NaN</td>\n",
       "      <td>NaN</td>\n",
       "      <td>Just got sent this photo from Ruby #Alaska as ...</td>\n",
       "      <td>1</td>\n",
       "    </tr>\n",
       "  </tbody>\n",
       "</table>\n",
       "</div>"
      ],
      "text/plain": [
       "   id keyword location                                               text  \\\n",
       "0   1     NaN      NaN  Our Deeds are the Reason of this #earthquake M...   \n",
       "1   4     NaN      NaN             Forest fire near La Ronge Sask. Canada   \n",
       "2   5     NaN      NaN  All residents asked to 'shelter in place' are ...   \n",
       "3   6     NaN      NaN  13,000 people receive #wildfires evacuation or...   \n",
       "4   7     NaN      NaN  Just got sent this photo from Ruby #Alaska as ...   \n",
       "\n",
       "   target  \n",
       "0       1  \n",
       "1       1  \n",
       "2       1  \n",
       "3       1  \n",
       "4       1  "
      ]
     },
     "execution_count": 3,
     "metadata": {},
     "output_type": "execute_result"
    }
   ],
   "source": [
    "train_df=pd.read_csv('/kaggle/input/nlp-getting-started/train.csv')\n",
    "train_df.head()"
   ]
  },
  {
   "cell_type": "code",
   "execution_count": 4,
   "id": "9c550271",
   "metadata": {
    "execution": {
     "iopub.execute_input": "2022-04-29T17:35:22.563844Z",
     "iopub.status.busy": "2022-04-29T17:35:22.563589Z",
     "iopub.status.idle": "2022-04-29T17:35:22.595986Z",
     "shell.execute_reply": "2022-04-29T17:35:22.595182Z"
    },
    "papermill": {
     "duration": 0.058281,
     "end_time": "2022-04-29T17:35:22.598262",
     "exception": false,
     "start_time": "2022-04-29T17:35:22.539981",
     "status": "completed"
    },
    "tags": []
   },
   "outputs": [
    {
     "data": {
      "text/html": [
       "<div>\n",
       "<style scoped>\n",
       "    .dataframe tbody tr th:only-of-type {\n",
       "        vertical-align: middle;\n",
       "    }\n",
       "\n",
       "    .dataframe tbody tr th {\n",
       "        vertical-align: top;\n",
       "    }\n",
       "\n",
       "    .dataframe thead th {\n",
       "        text-align: right;\n",
       "    }\n",
       "</style>\n",
       "<table border=\"1\" class=\"dataframe\">\n",
       "  <thead>\n",
       "    <tr style=\"text-align: right;\">\n",
       "      <th></th>\n",
       "      <th>id</th>\n",
       "      <th>keyword</th>\n",
       "      <th>location</th>\n",
       "      <th>text</th>\n",
       "    </tr>\n",
       "  </thead>\n",
       "  <tbody>\n",
       "    <tr>\n",
       "      <th>0</th>\n",
       "      <td>0</td>\n",
       "      <td>NaN</td>\n",
       "      <td>NaN</td>\n",
       "      <td>Just happened a terrible car crash</td>\n",
       "    </tr>\n",
       "    <tr>\n",
       "      <th>1</th>\n",
       "      <td>2</td>\n",
       "      <td>NaN</td>\n",
       "      <td>NaN</td>\n",
       "      <td>Heard about #earthquake is different cities, s...</td>\n",
       "    </tr>\n",
       "    <tr>\n",
       "      <th>2</th>\n",
       "      <td>3</td>\n",
       "      <td>NaN</td>\n",
       "      <td>NaN</td>\n",
       "      <td>there is a forest fire at spot pond, geese are...</td>\n",
       "    </tr>\n",
       "    <tr>\n",
       "      <th>3</th>\n",
       "      <td>9</td>\n",
       "      <td>NaN</td>\n",
       "      <td>NaN</td>\n",
       "      <td>Apocalypse lighting. #Spokane #wildfires</td>\n",
       "    </tr>\n",
       "    <tr>\n",
       "      <th>4</th>\n",
       "      <td>11</td>\n",
       "      <td>NaN</td>\n",
       "      <td>NaN</td>\n",
       "      <td>Typhoon Soudelor kills 28 in China and Taiwan</td>\n",
       "    </tr>\n",
       "  </tbody>\n",
       "</table>\n",
       "</div>"
      ],
      "text/plain": [
       "   id keyword location                                               text\n",
       "0   0     NaN      NaN                 Just happened a terrible car crash\n",
       "1   2     NaN      NaN  Heard about #earthquake is different cities, s...\n",
       "2   3     NaN      NaN  there is a forest fire at spot pond, geese are...\n",
       "3   9     NaN      NaN           Apocalypse lighting. #Spokane #wildfires\n",
       "4  11     NaN      NaN      Typhoon Soudelor kills 28 in China and Taiwan"
      ]
     },
     "execution_count": 4,
     "metadata": {},
     "output_type": "execute_result"
    }
   ],
   "source": [
    "test_df=pd.read_csv(\"/kaggle/input/nlp-getting-started/test.csv\")\n",
    "test_df.head()"
   ]
  },
  {
   "cell_type": "code",
   "execution_count": 5,
   "id": "9e15492f",
   "metadata": {
    "execution": {
     "iopub.execute_input": "2022-04-29T17:35:22.647211Z",
     "iopub.status.busy": "2022-04-29T17:35:22.646754Z",
     "iopub.status.idle": "2022-04-29T17:35:22.656282Z",
     "shell.execute_reply": "2022-04-29T17:35:22.655747Z"
    },
    "papermill": {
     "duration": 0.036515,
     "end_time": "2022-04-29T17:35:22.658077",
     "exception": false,
     "start_time": "2022-04-29T17:35:22.621562",
     "status": "completed"
    },
    "tags": []
   },
   "outputs": [
    {
     "data": {
      "text/plain": [
       "id             0\n",
       "keyword       61\n",
       "location    2533\n",
       "text           0\n",
       "target         0\n",
       "dtype: int64"
      ]
     },
     "execution_count": 5,
     "metadata": {},
     "output_type": "execute_result"
    }
   ],
   "source": [
    "train_df.isnull().sum()"
   ]
  },
  {
   "cell_type": "code",
   "execution_count": 6,
   "id": "1012e5e1",
   "metadata": {
    "execution": {
     "iopub.execute_input": "2022-04-29T17:35:22.706068Z",
     "iopub.status.busy": "2022-04-29T17:35:22.705847Z",
     "iopub.status.idle": "2022-04-29T17:35:22.713832Z",
     "shell.execute_reply": "2022-04-29T17:35:22.712871Z"
    },
    "papermill": {
     "duration": 0.033893,
     "end_time": "2022-04-29T17:35:22.715896",
     "exception": false,
     "start_time": "2022-04-29T17:35:22.682003",
     "status": "completed"
    },
    "tags": []
   },
   "outputs": [
    {
     "data": {
      "text/plain": [
       "id             0\n",
       "keyword       26\n",
       "location    1105\n",
       "text           0\n",
       "dtype: int64"
      ]
     },
     "execution_count": 6,
     "metadata": {},
     "output_type": "execute_result"
    }
   ],
   "source": [
    "test_df.isnull().sum()"
   ]
  },
  {
   "cell_type": "code",
   "execution_count": 7,
   "id": "51799630",
   "metadata": {
    "execution": {
     "iopub.execute_input": "2022-04-29T17:35:22.765608Z",
     "iopub.status.busy": "2022-04-29T17:35:22.765146Z",
     "iopub.status.idle": "2022-04-29T17:35:22.776528Z",
     "shell.execute_reply": "2022-04-29T17:35:22.775960Z"
    },
    "papermill": {
     "duration": 0.038512,
     "end_time": "2022-04-29T17:35:22.778460",
     "exception": false,
     "start_time": "2022-04-29T17:35:22.739948",
     "status": "completed"
    },
    "tags": []
   },
   "outputs": [],
   "source": [
    "train_df = train_df.drop(['id','location','keyword'], axis=1)\n",
    "test_df = test_df.drop(['id','location','keyword'], axis=1)"
   ]
  },
  {
   "cell_type": "code",
   "execution_count": 8,
   "id": "51421563",
   "metadata": {
    "execution": {
     "iopub.execute_input": "2022-04-29T17:35:22.829853Z",
     "iopub.status.busy": "2022-04-29T17:35:22.829591Z",
     "iopub.status.idle": "2022-04-29T17:35:22.841236Z",
     "shell.execute_reply": "2022-04-29T17:35:22.840762Z"
    },
    "papermill": {
     "duration": 0.040654,
     "end_time": "2022-04-29T17:35:22.843169",
     "exception": false,
     "start_time": "2022-04-29T17:35:22.802515",
     "status": "completed"
    },
    "tags": []
   },
   "outputs": [],
   "source": [
    "train_df[\"text\"] = train_df[\"text\"].apply(lambda x: x.lower())\n",
    "test_df[\"text\"] = test_df[\"text\"].apply(lambda x: x.lower())"
   ]
  },
  {
   "cell_type": "code",
   "execution_count": 9,
   "id": "042d3f1b",
   "metadata": {
    "execution": {
     "iopub.execute_input": "2022-04-29T17:35:22.891557Z",
     "iopub.status.busy": "2022-04-29T17:35:22.891330Z",
     "iopub.status.idle": "2022-04-29T17:35:22.920213Z",
     "shell.execute_reply": "2022-04-29T17:35:22.919763Z"
    },
    "papermill": {
     "duration": 0.055145,
     "end_time": "2022-04-29T17:35:22.921999",
     "exception": false,
     "start_time": "2022-04-29T17:35:22.866854",
     "status": "completed"
    },
    "tags": []
   },
   "outputs": [],
   "source": [
    "import re\n",
    "def remove_URL(text):\n",
    "    return re.sub(r\"https?://\\S+|www\\.\\S+\", \"\", text)\n",
    "\n",
    "train_df[\"text\"] = train_df[\"text\"].apply(lambda x: remove_URL(x))\n",
    "test_df[\"text\"] = test_df[\"text\"].apply(lambda x: remove_URL(x))"
   ]
  },
  {
   "cell_type": "code",
   "execution_count": 10,
   "id": "523b5ada",
   "metadata": {
    "execution": {
     "iopub.execute_input": "2022-04-29T17:35:22.974405Z",
     "iopub.status.busy": "2022-04-29T17:35:22.973990Z",
     "iopub.status.idle": "2022-04-29T17:35:23.019173Z",
     "shell.execute_reply": "2022-04-29T17:35:23.018066Z"
    },
    "papermill": {
     "duration": 0.075086,
     "end_time": "2022-04-29T17:35:23.021193",
     "exception": false,
     "start_time": "2022-04-29T17:35:22.946107",
     "status": "completed"
    },
    "tags": []
   },
   "outputs": [],
   "source": [
    "def remove_html(text):\n",
    "    html = re.compile(r\"<.*?>|&([a-z0-9]+|#[0-9]{1,6}|#x[0-9a-f]{1,6});\")\n",
    "    return re.sub(html, \"\", text)\n",
    "train_df[\"text\"] = train_df[\"text\"].apply(lambda x: remove_html(x))\n",
    "test_df[\"text\"] = test_df[\"text\"].apply(lambda x: remove_html(x))"
   ]
  },
  {
   "cell_type": "code",
   "execution_count": 11,
   "id": "7df31703",
   "metadata": {
    "execution": {
     "iopub.execute_input": "2022-04-29T17:35:23.075801Z",
     "iopub.status.busy": "2022-04-29T17:35:23.075019Z",
     "iopub.status.idle": "2022-04-29T17:35:23.135594Z",
     "shell.execute_reply": "2022-04-29T17:35:23.134938Z"
    },
    "papermill": {
     "duration": 0.088398,
     "end_time": "2022-04-29T17:35:23.137537",
     "exception": false,
     "start_time": "2022-04-29T17:35:23.049139",
     "status": "completed"
    },
    "tags": []
   },
   "outputs": [],
   "source": [
    "import string\n",
    "def remove_punct(text):\n",
    "    return text.translate(str.maketrans('', '', string.punctuation))\n",
    "\n",
    "train_df[\"text\"] = train_df[\"text\"].apply(lambda x:remove_punct(x))\n",
    "test_df[\"text\"] = test_df[\"text\"].apply(lambda x: remove_punct(x))"
   ]
  },
  {
   "cell_type": "code",
   "execution_count": 12,
   "id": "0702f277",
   "metadata": {
    "execution": {
     "iopub.execute_input": "2022-04-29T17:35:23.186858Z",
     "iopub.status.busy": "2022-04-29T17:35:23.186595Z",
     "iopub.status.idle": "2022-04-29T17:35:25.239047Z",
     "shell.execute_reply": "2022-04-29T17:35:25.238118Z"
    },
    "papermill": {
     "duration": 2.080079,
     "end_time": "2022-04-29T17:35:25.240982",
     "exception": false,
     "start_time": "2022-04-29T17:35:23.160903",
     "status": "completed"
    },
    "tags": []
   },
   "outputs": [],
   "source": [
    "import nltk\n",
    "from nltk import TweetTokenizer\n",
    "\n",
    "tokenizer = TweetTokenizer()\n",
    "\n",
    "train_df['tokens'] = [tokenizer.tokenize(item) for item in train_df.text]\n",
    "test_df['tokens'] = [tokenizer.tokenize(item) for item in test_df.text]"
   ]
  },
  {
   "cell_type": "code",
   "execution_count": 13,
   "id": "f5a3bd57",
   "metadata": {
    "execution": {
     "iopub.execute_input": "2022-04-29T17:35:25.289445Z",
     "iopub.status.busy": "2022-04-29T17:35:25.289192Z",
     "iopub.status.idle": "2022-04-29T17:35:27.524053Z",
     "shell.execute_reply": "2022-04-29T17:35:27.523301Z"
    },
    "papermill": {
     "duration": 2.261325,
     "end_time": "2022-04-29T17:35:27.525954",
     "exception": false,
     "start_time": "2022-04-29T17:35:25.264629",
     "status": "completed"
    },
    "tags": []
   },
   "outputs": [],
   "source": [
    "from nltk.stem import WordNetLemmatizer\n",
    "\n",
    "lemmatizer = WordNetLemmatizer()\n",
    "\n",
    "def lemmatize_item(item):\n",
    "    new_item = []\n",
    "    for x in item:\n",
    "        x = lemmatizer.lemmatize(x)\n",
    "        new_item.append(x)\n",
    "    return \" \".join(new_item)\n",
    "\n",
    "train_df['tokens'] = [lemmatize_item(item) for item in train_df.tokens]\n",
    "test_df['tokens'] = [lemmatize_item(item) for item in test_df.tokens]"
   ]
  },
  {
   "cell_type": "code",
   "execution_count": 14,
   "id": "9314a21c",
   "metadata": {
    "execution": {
     "iopub.execute_input": "2022-04-29T17:35:27.575641Z",
     "iopub.status.busy": "2022-04-29T17:35:27.575412Z",
     "iopub.status.idle": "2022-04-29T17:35:27.799206Z",
     "shell.execute_reply": "2022-04-29T17:35:27.798495Z"
    },
    "papermill": {
     "duration": 0.251282,
     "end_time": "2022-04-29T17:35:27.801671",
     "exception": false,
     "start_time": "2022-04-29T17:35:27.550389",
     "status": "completed"
    },
    "tags": []
   },
   "outputs": [],
   "source": [
    "from sklearn.feature_extraction.text import CountVectorizer\n",
    "\n",
    "vectorizer = CountVectorizer()\n",
    "\n",
    "\n",
    "X = vectorizer.fit_transform(train_df.text).toarray()\n",
    "y = train_df['target']"
   ]
  },
  {
   "cell_type": "code",
   "execution_count": 15,
   "id": "b9848d04",
   "metadata": {
    "execution": {
     "iopub.execute_input": "2022-04-29T17:35:27.875375Z",
     "iopub.status.busy": "2022-04-29T17:35:27.875126Z",
     "iopub.status.idle": "2022-04-29T17:35:28.127830Z",
     "shell.execute_reply": "2022-04-29T17:35:28.126883Z"
    },
    "papermill": {
     "duration": 0.293001,
     "end_time": "2022-04-29T17:35:28.130224",
     "exception": false,
     "start_time": "2022-04-29T17:35:27.837223",
     "status": "completed"
    },
    "tags": []
   },
   "outputs": [],
   "source": [
    "from sklearn.model_selection import train_test_split\n",
    "X_train, X_test, y_train, y_test = train_test_split(X, y, test_size = 0.3, random_state = 0)"
   ]
  },
  {
   "cell_type": "code",
   "execution_count": 16,
   "id": "45fee142",
   "metadata": {
    "execution": {
     "iopub.execute_input": "2022-04-29T17:35:28.202874Z",
     "iopub.status.busy": "2022-04-29T17:35:28.202514Z",
     "iopub.status.idle": "2022-04-29T17:35:29.168827Z",
     "shell.execute_reply": "2022-04-29T17:35:29.167351Z"
    },
    "papermill": {
     "duration": 1.005555,
     "end_time": "2022-04-29T17:35:29.171143",
     "exception": false,
     "start_time": "2022-04-29T17:35:28.165588",
     "status": "completed"
    },
    "tags": []
   },
   "outputs": [
    {
     "data": {
      "text/plain": [
       "MultinomialNB()"
      ]
     },
     "execution_count": 16,
     "metadata": {},
     "output_type": "execute_result"
    }
   ],
   "source": [
    "from sklearn.naive_bayes import MultinomialNB\n",
    "mb = MultinomialNB()\n",
    "mb.fit(X_train,y_train)"
   ]
  },
  {
   "cell_type": "code",
   "execution_count": 17,
   "id": "592f05a7",
   "metadata": {
    "execution": {
     "iopub.execute_input": "2022-04-29T17:35:29.221441Z",
     "iopub.status.busy": "2022-04-29T17:35:29.221173Z",
     "iopub.status.idle": "2022-04-29T17:35:29.315902Z",
     "shell.execute_reply": "2022-04-29T17:35:29.315116Z"
    },
    "papermill": {
     "duration": 0.123138,
     "end_time": "2022-04-29T17:35:29.318123",
     "exception": false,
     "start_time": "2022-04-29T17:35:29.194985",
     "status": "completed"
    },
    "tags": []
   },
   "outputs": [],
   "source": [
    "y_pred = mb.predict(X_test)"
   ]
  },
  {
   "cell_type": "code",
   "execution_count": 18,
   "id": "3fe8e907",
   "metadata": {
    "execution": {
     "iopub.execute_input": "2022-04-29T17:35:29.381074Z",
     "iopub.status.busy": "2022-04-29T17:35:29.380338Z",
     "iopub.status.idle": "2022-04-29T17:35:29.385721Z",
     "shell.execute_reply": "2022-04-29T17:35:29.385191Z"
    },
    "papermill": {
     "duration": 0.041313,
     "end_time": "2022-04-29T17:35:29.389761",
     "exception": false,
     "start_time": "2022-04-29T17:35:29.348448",
     "status": "completed"
    },
    "tags": []
   },
   "outputs": [
    {
     "name": "stdout",
     "output_type": "stream",
     "text": [
      "The accuracy of the model is : 0.8025394045534151\n"
     ]
    }
   ],
   "source": [
    "from sklearn.metrics import accuracy_score, classification_report, confusion_matrix\n",
    "acc = accuracy_score(y_test,y_pred)\n",
    "print(\"The accuracy of the model is :\",acc)"
   ]
  },
  {
   "cell_type": "code",
   "execution_count": 19,
   "id": "2bd3f98b",
   "metadata": {
    "execution": {
     "iopub.execute_input": "2022-04-29T17:35:29.447278Z",
     "iopub.status.busy": "2022-04-29T17:35:29.447057Z",
     "iopub.status.idle": "2022-04-29T17:35:29.455676Z",
     "shell.execute_reply": "2022-04-29T17:35:29.454984Z"
    },
    "papermill": {
     "duration": 0.037146,
     "end_time": "2022-04-29T17:35:29.457393",
     "exception": false,
     "start_time": "2022-04-29T17:35:29.420247",
     "status": "completed"
    },
    "tags": []
   },
   "outputs": [
    {
     "data": {
      "text/plain": [
       "array([[1157,  181],\n",
       "       [ 270,  676]])"
      ]
     },
     "execution_count": 19,
     "metadata": {},
     "output_type": "execute_result"
    }
   ],
   "source": [
    "cf = confusion_matrix(y_test,y_pred)\n",
    "cf"
   ]
  },
  {
   "cell_type": "code",
   "execution_count": 20,
   "id": "887b011c",
   "metadata": {
    "execution": {
     "iopub.execute_input": "2022-04-29T17:35:29.507663Z",
     "iopub.status.busy": "2022-04-29T17:35:29.507434Z",
     "iopub.status.idle": "2022-04-29T17:35:29.516954Z",
     "shell.execute_reply": "2022-04-29T17:35:29.515611Z"
    },
    "papermill": {
     "duration": 0.036981,
     "end_time": "2022-04-29T17:35:29.518875",
     "exception": false,
     "start_time": "2022-04-29T17:35:29.481894",
     "status": "completed"
    },
    "tags": []
   },
   "outputs": [
    {
     "name": "stdout",
     "output_type": "stream",
     "text": [
      "              precision    recall  f1-score   support\n",
      "\n",
      "           0       0.81      0.86      0.84      1338\n",
      "           1       0.79      0.71      0.75       946\n",
      "\n",
      "    accuracy                           0.80      2284\n",
      "   macro avg       0.80      0.79      0.79      2284\n",
      "weighted avg       0.80      0.80      0.80      2284\n",
      "\n"
     ]
    }
   ],
   "source": [
    "print(classification_report(y_test,y_pred))"
   ]
  },
  {
   "cell_type": "code",
   "execution_count": 21,
   "id": "7d3efdb4",
   "metadata": {
    "execution": {
     "iopub.execute_input": "2022-04-29T17:35:29.569879Z",
     "iopub.status.busy": "2022-04-29T17:35:29.569407Z",
     "iopub.status.idle": "2022-04-29T17:35:29.643353Z",
     "shell.execute_reply": "2022-04-29T17:35:29.642471Z"
    },
    "papermill": {
     "duration": 0.101783,
     "end_time": "2022-04-29T17:35:29.645469",
     "exception": false,
     "start_time": "2022-04-29T17:35:29.543686",
     "status": "completed"
    },
    "tags": []
   },
   "outputs": [],
   "source": [
    "test = vectorizer.transform(test_df.text).toarray()"
   ]
  },
  {
   "cell_type": "code",
   "execution_count": 22,
   "id": "fed43c7e",
   "metadata": {
    "execution": {
     "iopub.execute_input": "2022-04-29T17:35:29.695644Z",
     "iopub.status.busy": "2022-04-29T17:35:29.695424Z",
     "iopub.status.idle": "2022-04-29T17:35:29.844139Z",
     "shell.execute_reply": "2022-04-29T17:35:29.843414Z"
    },
    "papermill": {
     "duration": 0.176918,
     "end_time": "2022-04-29T17:35:29.846911",
     "exception": false,
     "start_time": "2022-04-29T17:35:29.669993",
     "status": "completed"
    },
    "tags": []
   },
   "outputs": [],
   "source": [
    "pred_1 = mb.predict(test)"
   ]
  },
  {
   "cell_type": "code",
   "execution_count": 23,
   "id": "f826eaa7",
   "metadata": {
    "execution": {
     "iopub.execute_input": "2022-04-29T17:35:29.913895Z",
     "iopub.status.busy": "2022-04-29T17:35:29.913622Z",
     "iopub.status.idle": "2022-04-29T17:35:29.930455Z",
     "shell.execute_reply": "2022-04-29T17:35:29.929914Z"
    },
    "papermill": {
     "duration": 0.052425,
     "end_time": "2022-04-29T17:35:29.932347",
     "exception": false,
     "start_time": "2022-04-29T17:35:29.879922",
     "status": "completed"
    },
    "tags": []
   },
   "outputs": [
    {
     "data": {
      "text/html": [
       "<div>\n",
       "<style scoped>\n",
       "    .dataframe tbody tr th:only-of-type {\n",
       "        vertical-align: middle;\n",
       "    }\n",
       "\n",
       "    .dataframe tbody tr th {\n",
       "        vertical-align: top;\n",
       "    }\n",
       "\n",
       "    .dataframe thead th {\n",
       "        text-align: right;\n",
       "    }\n",
       "</style>\n",
       "<table border=\"1\" class=\"dataframe\">\n",
       "  <thead>\n",
       "    <tr style=\"text-align: right;\">\n",
       "      <th></th>\n",
       "      <th>id</th>\n",
       "      <th>target</th>\n",
       "    </tr>\n",
       "  </thead>\n",
       "  <tbody>\n",
       "    <tr>\n",
       "      <th>0</th>\n",
       "      <td>0</td>\n",
       "      <td>0</td>\n",
       "    </tr>\n",
       "    <tr>\n",
       "      <th>1</th>\n",
       "      <td>2</td>\n",
       "      <td>0</td>\n",
       "    </tr>\n",
       "    <tr>\n",
       "      <th>2</th>\n",
       "      <td>3</td>\n",
       "      <td>0</td>\n",
       "    </tr>\n",
       "    <tr>\n",
       "      <th>3</th>\n",
       "      <td>9</td>\n",
       "      <td>0</td>\n",
       "    </tr>\n",
       "    <tr>\n",
       "      <th>4</th>\n",
       "      <td>11</td>\n",
       "      <td>0</td>\n",
       "    </tr>\n",
       "  </tbody>\n",
       "</table>\n",
       "</div>"
      ],
      "text/plain": [
       "   id  target\n",
       "0   0       0\n",
       "1   2       0\n",
       "2   3       0\n",
       "3   9       0\n",
       "4  11       0"
      ]
     },
     "execution_count": 23,
     "metadata": {},
     "output_type": "execute_result"
    }
   ],
   "source": [
    "ss = pd.read_csv(\"/kaggle/input/nlp-getting-started/sample_submission.csv\")\n",
    "ss.head()"
   ]
  },
  {
   "cell_type": "code",
   "execution_count": 24,
   "id": "05c449dd",
   "metadata": {
    "execution": {
     "iopub.execute_input": "2022-04-29T17:35:29.988023Z",
     "iopub.status.busy": "2022-04-29T17:35:29.987741Z",
     "iopub.status.idle": "2022-04-29T17:35:29.999346Z",
     "shell.execute_reply": "2022-04-29T17:35:29.998154Z"
    },
    "papermill": {
     "duration": 0.039054,
     "end_time": "2022-04-29T17:35:30.001535",
     "exception": false,
     "start_time": "2022-04-29T17:35:29.962481",
     "status": "completed"
    },
    "tags": []
   },
   "outputs": [],
   "source": [
    "ss['target'] = pred_1\n",
    "ss.to_csv('submission.csv',index=False)"
   ]
  },
  {
   "cell_type": "code",
   "execution_count": 25,
   "id": "0e56f0d5",
   "metadata": {
    "execution": {
     "iopub.execute_input": "2022-04-29T17:35:30.078080Z",
     "iopub.status.busy": "2022-04-29T17:35:30.077855Z",
     "iopub.status.idle": "2022-04-29T17:35:30.090612Z",
     "shell.execute_reply": "2022-04-29T17:35:30.089763Z"
    },
    "papermill": {
     "duration": 0.053292,
     "end_time": "2022-04-29T17:35:30.092442",
     "exception": false,
     "start_time": "2022-04-29T17:35:30.039150",
     "status": "completed"
    },
    "tags": []
   },
   "outputs": [
    {
     "data": {
      "text/html": [
       "<div>\n",
       "<style scoped>\n",
       "    .dataframe tbody tr th:only-of-type {\n",
       "        vertical-align: middle;\n",
       "    }\n",
       "\n",
       "    .dataframe tbody tr th {\n",
       "        vertical-align: top;\n",
       "    }\n",
       "\n",
       "    .dataframe thead th {\n",
       "        text-align: right;\n",
       "    }\n",
       "</style>\n",
       "<table border=\"1\" class=\"dataframe\">\n",
       "  <thead>\n",
       "    <tr style=\"text-align: right;\">\n",
       "      <th></th>\n",
       "      <th>id</th>\n",
       "      <th>target</th>\n",
       "    </tr>\n",
       "  </thead>\n",
       "  <tbody>\n",
       "    <tr>\n",
       "      <th>0</th>\n",
       "      <td>0</td>\n",
       "      <td>1</td>\n",
       "    </tr>\n",
       "    <tr>\n",
       "      <th>1</th>\n",
       "      <td>2</td>\n",
       "      <td>0</td>\n",
       "    </tr>\n",
       "    <tr>\n",
       "      <th>2</th>\n",
       "      <td>3</td>\n",
       "      <td>1</td>\n",
       "    </tr>\n",
       "    <tr>\n",
       "      <th>3</th>\n",
       "      <td>9</td>\n",
       "      <td>1</td>\n",
       "    </tr>\n",
       "    <tr>\n",
       "      <th>4</th>\n",
       "      <td>11</td>\n",
       "      <td>1</td>\n",
       "    </tr>\n",
       "    <tr>\n",
       "      <th>...</th>\n",
       "      <td>...</td>\n",
       "      <td>...</td>\n",
       "    </tr>\n",
       "    <tr>\n",
       "      <th>3258</th>\n",
       "      <td>10861</td>\n",
       "      <td>1</td>\n",
       "    </tr>\n",
       "    <tr>\n",
       "      <th>3259</th>\n",
       "      <td>10865</td>\n",
       "      <td>1</td>\n",
       "    </tr>\n",
       "    <tr>\n",
       "      <th>3260</th>\n",
       "      <td>10868</td>\n",
       "      <td>1</td>\n",
       "    </tr>\n",
       "    <tr>\n",
       "      <th>3261</th>\n",
       "      <td>10874</td>\n",
       "      <td>1</td>\n",
       "    </tr>\n",
       "    <tr>\n",
       "      <th>3262</th>\n",
       "      <td>10875</td>\n",
       "      <td>1</td>\n",
       "    </tr>\n",
       "  </tbody>\n",
       "</table>\n",
       "<p>3263 rows × 2 columns</p>\n",
       "</div>"
      ],
      "text/plain": [
       "         id  target\n",
       "0         0       1\n",
       "1         2       0\n",
       "2         3       1\n",
       "3         9       1\n",
       "4        11       1\n",
       "...     ...     ...\n",
       "3258  10861       1\n",
       "3259  10865       1\n",
       "3260  10868       1\n",
       "3261  10874       1\n",
       "3262  10875       1\n",
       "\n",
       "[3263 rows x 2 columns]"
      ]
     },
     "execution_count": 25,
     "metadata": {},
     "output_type": "execute_result"
    }
   ],
   "source": [
    "r =pd.read_csv(\"submission.csv\")\n",
    "r"
   ]
  },
  {
   "cell_type": "code",
   "execution_count": null,
   "id": "a6455714",
   "metadata": {
    "papermill": {
     "duration": 0.038479,
     "end_time": "2022-04-29T17:35:30.170414",
     "exception": false,
     "start_time": "2022-04-29T17:35:30.131935",
     "status": "completed"
    },
    "tags": []
   },
   "outputs": [],
   "source": []
  }
 ],
 "metadata": {
  "kernelspec": {
   "display_name": "Python 3",
   "language": "python",
   "name": "python3"
  },
  "language_info": {
   "codemirror_mode": {
    "name": "ipython",
    "version": 3
   },
   "file_extension": ".py",
   "mimetype": "text/x-python",
   "name": "python",
   "nbconvert_exporter": "python",
   "pygments_lexer": "ipython3",
   "version": "3.7.12"
  },
  "papermill": {
   "default_parameters": {},
   "duration": 17.508603,
   "end_time": "2022-04-29T17:35:31.124008",
   "environment_variables": {},
   "exception": null,
   "input_path": "__notebook__.ipynb",
   "output_path": "__notebook__.ipynb",
   "parameters": {},
   "start_time": "2022-04-29T17:35:13.615405",
   "version": "2.3.4"
  }
 },
 "nbformat": 4,
 "nbformat_minor": 5
}
